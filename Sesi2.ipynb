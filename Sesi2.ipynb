{
 "cells": [
  {
   "cell_type": "markdown",
   "id": "3763f490-deb0-49f1-97ab-f81611e31e92",
   "metadata": {},
   "source": [
    "# Conditional\n",
    "- == equal\n",
    "- != not equal\n",
    "- .>= lebih besar/=\n",
    "- <= lebih kecil/=\n",
    "- is = object identity"
   ]
  },
  {
   "cell_type": "code",
   "execution_count": 12,
   "id": "2e471b21-6d70-4ea4-a364-c47055bb019c",
   "metadata": {},
   "outputs": [
    {
     "name": "stdout",
     "output_type": "stream",
     "text": [
      "yes\n",
      "yes\n"
     ]
    }
   ],
   "source": [
    "x=0\n",
    "y=5\n",
    "\n",
    "if x<5:\n",
    "    print('yes')\n",
    "    \n",
    "if x>5:\n",
    "    print('yes')\n",
    "    \n",
    "if 'il' in 'dila':\n",
    "    print('yes')\n",
    "\n",
    "if 'apel' in ['jeruk','nanas','pir']:\n",
    "    print('yes')"
   ]
  },
  {
   "cell_type": "code",
   "execution_count": 21,
   "id": "1efef035-952f-4e47-808d-15b34eb5ba9a",
   "metadata": {},
   "outputs": [
    {
     "name": "stdout",
     "output_type": "stream",
     "text": [
      "no match\n"
     ]
    }
   ],
   "source": [
    "language = 'D'\n",
    "\n",
    "if language == 'python':\n",
    "    print('language is python')\n",
    "\n",
    "elif language == 'java':\n",
    "    print('language is java')\n",
    "    \n",
    "elif language == 'C':\n",
    "    print('language is C')\n",
    "\n",
    "else:\n",
    "    print('no match')"
   ]
  },
  {
   "cell_type": "code",
   "execution_count": 32,
   "id": "226483e2-f8af-4882-826f-11bfbff7b4c8",
   "metadata": {},
   "outputs": [
    {
     "name": "stdout",
     "output_type": "stream",
     "text": [
      "bad creds\n",
      "please log in\n"
     ]
    }
   ],
   "source": [
    "user = 'admin'\n",
    "logged_in = False\n",
    "\n",
    "if user == 'admin' and logged_in:\n",
    "    print('admin page')\n",
    "else:\n",
    "    print('bad creds')\n",
    "    \n",
    "if not logged_in:\n",
    "    print('please log in')\n",
    "else:\n",
    "    print('welcome')"
   ]
  },
  {
   "cell_type": "code",
   "execution_count": 44,
   "id": "9885d8fd-b6c5-457e-a813-a0d0b08a4b1d",
   "metadata": {},
   "outputs": [
    {
     "name": "stdout",
     "output_type": "stream",
     "text": [
      "4392908224\n",
      "4392908224\n",
      "True\n"
     ]
    }
   ],
   "source": [
    "a = [1,2,3]\n",
    "b = a\n",
    "\n",
    "print(id(a))\n",
    "print(id(b))\n",
    "print(a == b)\n"
   ]
  },
  {
   "cell_type": "code",
   "execution_count": 47,
   "id": "b0abf40b-8d0f-4900-b02d-954cc144f87d",
   "metadata": {},
   "outputs": [
    {
     "name": "stdout",
     "output_type": "stream",
     "text": [
      "after conditional\n"
     ]
    }
   ],
   "source": [
    "if 'foo' in ['bar', 'baz', 'qux']:\n",
    "    print('expressing was true')\n",
    "    print('executing statement is suite')\n",
    "    print('...')\n",
    "    print('done.')\n",
    "\n",
    "print('after conditional')    "
   ]
  },
  {
   "cell_type": "code",
   "execution_count": 70,
   "id": "82179c1b-9f4f-4844-be3d-4eec44a28520",
   "metadata": {},
   "outputs": [
    {
     "name": "stdout",
     "output_type": "stream",
     "text": [
      "beli buku\n",
      "beli pensil\n"
     ]
    }
   ],
   "source": [
    "harga_buku = 2000\n",
    "harga_pensil = 5000\n",
    "uang = 10000\n",
    "\n",
    "if uang > harga_buku:\n",
    "    print('beli buku')\n",
    "    \n",
    "if uang > harga_pensil:\n",
    "    print('beli pensil')\n",
    "    \n",
    "if uang < harga_buku and harga_pensil:\n",
    "    print('uang tidak cukup')\n"
   ]
  },
  {
   "cell_type": "code",
   "execution_count": 78,
   "id": "3a03c54c-de0f-4b7f-9ef4-0d8ef842a399",
   "metadata": {},
   "outputs": [
    {
     "name": "stdout",
     "output_type": "stream",
     "text": [
      "beli buku\n"
     ]
    }
   ],
   "source": [
    "harga_buku = 2000\n",
    "harga_pensil = 5000\n",
    "uang = 10000\n",
    "\n",
    "if uang > harga_buku:\n",
    "    print('beli buku')\n",
    "elif uang > harga_pensil:\n",
    "    print('beli pensil')\n",
    "else:\n",
    "    print('uang tidak cukup')"
   ]
  },
  {
   "cell_type": "code",
   "execution_count": 84,
   "id": "11a64850-aea2-40c8-9abd-426ca75efafd",
   "metadata": {},
   "outputs": [
    {
     "name": "stdout",
     "output_type": "stream",
     "text": [
      "foo\n"
     ]
    }
   ],
   "source": [
    "if 'a' in 'bar':\n",
    "    print('foo')\n",
    "elif 1/0:\n",
    "    print(\"this won't happen\")\n",
    "elif var:\n",
    "    print(\"this won't either\")"
   ]
  },
  {
   "cell_type": "code",
   "execution_count": 87,
   "id": "e4165828-16cf-4dc7-975d-91832c92d3a1",
   "metadata": {},
   "outputs": [
    {
     "name": "stdout",
     "output_type": "stream",
     "text": [
      "corge\n",
      "grault\n"
     ]
    }
   ],
   "source": [
    "x = 5\n",
    "if x == 1: print ('foo'); print('bar'); print('baz')\n",
    "elif x == 2: print('qux'); print('quux') \n",
    "else: print('corge'); print('grault')    "
   ]
  },
  {
   "cell_type": "code",
   "execution_count": 89,
   "id": "4bc38312-acc5-4bae-b20f-3794e3d3c514",
   "metadata": {},
   "outputs": [
    {
     "name": "stdout",
     "output_type": "stream",
     "text": [
      "lets go tp the library\n"
     ]
    }
   ],
   "source": [
    "raining = True\n",
    "print('lets go tp the', 'beach' if not raining else 'library')"
   ]
  },
  {
   "cell_type": "code",
   "execution_count": 93,
   "id": "90b673e4-dd82-4afe-8c0a-a929319a1f84",
   "metadata": {},
   "outputs": [
    {
     "name": "stdout",
     "output_type": "stream",
     "text": [
      "teen\n"
     ]
    }
   ],
   "source": [
    "age = 12\n",
    "s = 'teen' if age < 21 else 'adult'\n",
    "print(s)"
   ]
  },
  {
   "cell_type": "code",
   "execution_count": 94,
   "id": "5d480780-f2c4-48a0-924c-11879358110e",
   "metadata": {},
   "outputs": [
    {
     "data": {
      "text/plain": [
       "'no'"
      ]
     },
     "execution_count": 94,
     "metadata": {},
     "output_type": "execute_result"
    }
   ],
   "source": [
    "'yes' if ('qux' in ['bar', 'baz']) else 'no'"
   ]
  },
  {
   "cell_type": "code",
   "execution_count": 96,
   "id": "cc6ac1a4-523e-4cb6-a51b-a5067d9db240",
   "metadata": {},
   "outputs": [],
   "source": [
    "if a>b:\n",
    "    m=a\n",
    "else:\n",
    "    m=b"
   ]
  },
  {
   "cell_type": "code",
   "execution_count": 98,
   "id": "67fddf6c-53c8-44b1-a3a1-5e970efeb0f3",
   "metadata": {},
   "outputs": [],
   "source": [
    "m = a if a>b else b"
   ]
  },
  {
   "cell_type": "code",
   "execution_count": null,
   "id": "cdb763cd-b576-48c6-9cc8-0790bc49cf4d",
   "metadata": {},
   "outputs": [],
   "source": []
  },
  {
   "cell_type": "code",
   "execution_count": 105,
   "id": "71af5a25-3827-4b59-a6c3-7055dc1a8d78",
   "metadata": {},
   "outputs": [
    {
     "name": "stdout",
     "output_type": "stream",
     "text": [
      "bukan dinda\n"
     ]
    }
   ],
   "source": [
    "#conditional and looping\n",
    "\n",
    "nama = 'dila'\n",
    "if nama == \"dinda\":\n",
    "    print('selamat malam dinda')\n",
    "else:\n",
    "    print('bukan dinda')"
   ]
  },
  {
   "cell_type": "code",
   "execution_count": 107,
   "id": "0172ef63-40b8-4587-b214-4a8f6db26fcd",
   "metadata": {},
   "outputs": [
    {
     "name": "stdout",
     "output_type": "stream",
     "text": [
      "messagenya False\n"
     ]
    }
   ],
   "source": [
    "#falsy\n",
    "\n",
    "message = ''\n",
    "if message:\n",
    "    print('messagenya True')\n",
    "    print(message)\n",
    "else:\n",
    "    print('messagenya False')"
   ]
  },
  {
   "cell_type": "code",
   "execution_count": 109,
   "id": "a3874bc8-41c7-471c-ad56-10e47fa7338b",
   "metadata": {},
   "outputs": [
    {
     "name": "stdout",
     "output_type": "stream",
     "text": [
      "boleh ambil KTP\n"
     ]
    }
   ],
   "source": [
    "nama = 'andika'\n",
    "umur = 18\n",
    "\n",
    "#kalau nama andika dan umur diatas 17 boleh ambil ktp\n",
    "if (nama == 'andika' and umur >17):\n",
    "    print('boleh ambil KTP')\n",
    "    \n",
    "else:\n",
    "    print('tunggu lain waktu untuk ambil KTP')\n"
   ]
  },
  {
   "cell_type": "code",
   "execution_count": 110,
   "id": "db4e04f9-97b3-43d5-913d-d31516caa8e7",
   "metadata": {},
   "outputs": [
    {
     "name": "stdout",
     "output_type": "stream",
     "text": [
      "tunggu lain waktu untuk ambil KTP\n"
     ]
    }
   ],
   "source": [
    "nama = 'dinda'\n",
    "umur = 18\n",
    "\n",
    "#kalau nama andika dan umur diatas 17 boleh ambil ktp\n",
    "if (nama == 'andika' and umur >17):\n",
    "    print('boleh ambil KTP')\n",
    "    \n",
    "else:\n",
    "    print('tunggu lain waktu untuk ambil KTP')\n"
   ]
  },
  {
   "cell_type": "code",
   "execution_count": 113,
   "id": "5791b3c8-cbe6-4203-867b-3dc4ddb9aed5",
   "metadata": {},
   "outputs": [
    {
     "name": "stdout",
     "output_type": "stream",
     "text": [
      "boleh beli makanan\n"
     ]
    }
   ],
   "source": [
    "nama = 'andika'\n",
    "umur = 18\n",
    "\n",
    "#kalau nama andika ATAU umur diatas 17 boleh beli makanan\n",
    "if (nama == 'andika' or umur >17):\n",
    "    print('boleh beli makanan')\n",
    "    \n",
    "else:\n",
    "    print('tidak boleh')\n"
   ]
  },
  {
   "cell_type": "code",
   "execution_count": 118,
   "id": "2c3e7204-e16d-4bd3-9e41-792578d76d95",
   "metadata": {},
   "outputs": [
    {
     "name": "stdout",
     "output_type": "stream",
     "text": [
      "boleh beli makanan\n"
     ]
    }
   ],
   "source": [
    "nama = 'dinda'\n",
    "umur = 18\n",
    "\n",
    "#kalau nama andika ATAU umur diatas 17 boleh beli makanan\n",
    "if (nama == 'andika' or umur >17):\n",
    "    print('boleh beli makanan')\n",
    "    \n",
    "else:\n",
    "    print('tidak boleh')\n"
   ]
  },
  {
   "cell_type": "markdown",
   "id": "53ca4045-a6e4-4147-8ab2-467af5c554cf",
   "metadata": {},
   "source": [
    "memberi grade ke nilai ujian\n",
    "- 100 = A\n",
    "- 90+ = B\n",
    "- 80+ = C\n",
    "- sisanya D\n"
   ]
  },
  {
   "cell_type": "code",
   "execution_count": 130,
   "id": "28fd0de1-354a-478b-bf18-c4380fe4005f",
   "metadata": {},
   "outputs": [
    {
     "name": "stdout",
     "output_type": "stream",
     "text": [
      "nilai invalid\n"
     ]
    }
   ],
   "source": [
    "nilai = 101\n",
    "if (nilai > 100 or nilai < 0):\n",
    "    print('nilai invalid')\n",
    "elif nilai == 100:\n",
    "    print('nilai A')\n",
    "elif nilai > 90:\n",
    "    print('nilai B')\n",
    "elif nilai > 80:\n",
    "    print('nilai C')\n",
    "else:\n",
    "    print('nilai D')"
   ]
  },
  {
   "cell_type": "code",
   "execution_count": 137,
   "id": "a3b538b9-09bb-4a2a-8c1e-72ee33554e2b",
   "metadata": {},
   "outputs": [
    {
     "name": "stdout",
     "output_type": "stream",
     "text": [
      "nilai C\n",
      "dapat sertif\n"
     ]
    }
   ],
   "source": [
    "#dapat grade berapa dan apa dapat sertif kelulusan. misal grade tergantung nilai dan sertif tergantung absen\n",
    "\n",
    "nilai = 90\n",
    "absen = 8\n",
    "\n",
    "#min nilai 70 dan absen 5x untuk dapat sertif\n",
    "\n",
    "if (nilai > 100 or nilai < 0):\n",
    "    print('nilai invalid')\n",
    "elif nilai == 100:\n",
    "    print('nilai A')\n",
    "    if(nilai > 70 and absen > 5):\n",
    "        print('dapat sertif')\n",
    "    else:\n",
    "        print('tidak dapat setif')\n",
    "elif nilai > 90:\n",
    "    print('nilai B')\n",
    "    if (nilai > 70 and absen > 5):\n",
    "        print('dapat sertif')\n",
    "    else:\n",
    "        print('tidak dapat setif')\n",
    "elif nilai > 80:\n",
    "    print('nilai C')\n",
    "    if (nilai > 70 and absen > 5):\n",
    "        print('dapat sertif')\n",
    "    else:\n",
    "        print('tidak dapat setif')\n",
    "else:\n",
    "    print('nilai D')\n",
    "    if (nilai > 70 and absen > 5):\n",
    "        print('dapat sertif')\n",
    "    else:\n",
    "        print('tidak dapat setif')"
   ]
  },
  {
   "cell_type": "code",
   "execution_count": 143,
   "id": "8b05cccf-f81c-44e5-97b8-40f83d20d040",
   "metadata": {},
   "outputs": [
    {
     "name": "stdout",
     "output_type": "stream",
     "text": [
      "bye andi\n"
     ]
    }
   ],
   "source": [
    "nama = 'andi'\n",
    "print(\"welcome\" if nama == 'andika' else 'bye',nama)\n",
    "\n",
    "# true taruh kiri, false kanan"
   ]
  },
  {
   "cell_type": "code",
   "execution_count": 147,
   "id": "ea73b434-c2e5-44dc-9883-191ad550e2a9",
   "metadata": {},
   "outputs": [
    {
     "name": "stdout",
     "output_type": "stream",
     "text": [
      "bye andika\n"
     ]
    }
   ],
   "source": [
    "nama = \"andika\"\n",
    "if not (nama == 'andika'):\n",
    "    print('welcome',nama)\n",
    "else:\n",
    "    print('bye',nama)\n",
    "\n"
   ]
  },
  {
   "cell_type": "code",
   "execution_count": 148,
   "id": "f0f0c057-69ec-47b1-a3bf-8938a1829392",
   "metadata": {},
   "outputs": [
    {
     "name": "stdout",
     "output_type": "stream",
     "text": [
      "belum cukup umur\n"
     ]
    }
   ],
   "source": [
    "umur = 20\n",
    "\n",
    "if (umur > 21):\n",
    "    pass\n",
    "else:\n",
    "    print('belum cukup umur')"
   ]
  },
  {
   "cell_type": "markdown",
   "id": "74a4f3f3-ccf2-4811-82fd-fbb527b893ff",
   "metadata": {},
   "source": [
    "# loop"
   ]
  },
  {
   "cell_type": "code",
   "execution_count": 164,
   "id": "713a54cf-b532-4568-86e2-12116c52164a",
   "metadata": {},
   "outputs": [
    {
     "name": "stdout",
     "output_type": "stream",
     "text": [
      "masih umur 15\n",
      "umur belum cukup untuk beli alkohol\n",
      "masih umur 16\n",
      "umur belum cukup untuk beli alkohol\n",
      "masih umur 17\n",
      "umur belum cukup untuk beli alkohol\n",
      "masih umur 18\n",
      "umur belum cukup untuk beli alkohol\n",
      "masih umur 19\n",
      "umur belum cukup untuk beli alkohol\n",
      "masih umur 20\n",
      "umur belum cukup untuk beli alkohol\n",
      "sudah cukup umur\n"
     ]
    }
   ],
   "source": [
    "# while loop\n",
    "\n",
    "umur = 15\n",
    "\n",
    "while (umur < 21):\n",
    "    print('masih umur', umur)\n",
    "    print('umur belum cukup untuk beli alkohol')\n",
    "    umur = umur + 1\n",
    "else:\n",
    "    print('sudah cukup umur')"
   ]
  },
  {
   "cell_type": "code",
   "execution_count": 160,
   "id": "0deeff06-a349-421d-bc5d-a7f7c60344eb",
   "metadata": {},
   "outputs": [
    {
     "name": "stdout",
     "output_type": "stream",
     "text": [
      "count 10 masih di atas 0\n",
      "count 9 masih di atas 0\n",
      "count 8 masih di atas 0\n",
      "count 7 masih di atas 0\n",
      "count 6 masih di atas 0\n",
      "count 5 masih di atas 0\n",
      "count 4 masih di atas 0\n",
      "count 3 masih di atas 0\n",
      "count 2 masih di atas 0\n",
      "count 1 masih di atas 0\n"
     ]
    }
   ],
   "source": [
    "# infinite loop\n",
    "\n",
    "count = 10\n",
    "\n",
    "while (count > 0):\n",
    "    print('count', count, \"masih di atas 0\")\n",
    "    count = count - 1"
   ]
  },
  {
   "cell_type": "code",
   "execution_count": 168,
   "id": "7ed53515-d4f2-408e-8f0f-67ebb5fc8644",
   "metadata": {},
   "outputs": [
    {
     "name": "stdout",
     "output_type": "stream",
     "text": [
      "count 9 masih di atas 0\n",
      "count 8 masih di atas 0\n",
      "count 7 masih di atas 0\n",
      "count 6 masih di atas 0\n"
     ]
    }
   ],
   "source": [
    "count = 10\n",
    "while (count >0):\n",
    "    count = count - 1\n",
    "    if (count == 5):\n",
    "        break\n",
    "    print('count',count,'masih di atas 0')\n",
    "        "
   ]
  },
  {
   "cell_type": "code",
   "execution_count": 170,
   "id": "e62d0c01-8285-4091-a117-d32f0d6800c5",
   "metadata": {},
   "outputs": [
    {
     "name": "stdout",
     "output_type": "stream",
     "text": [
      "count 9 masih di atas 0\n",
      "count 8 masih di atas 0\n",
      "count 7 masih di atas 0\n",
      "count 6 masih di atas 0\n",
      "count 4 masih di atas 0\n",
      "count 3 masih di atas 0\n",
      "count 2 masih di atas 0\n",
      "count 1 masih di atas 0\n",
      "count 0 masih di atas 0\n"
     ]
    }
   ],
   "source": [
    "count = 10\n",
    "while (count >0):\n",
    "    count = count - 1\n",
    "    if (count == 5):\n",
    "        continue\n",
    "    print('count',count,'masih di atas 0')"
   ]
  },
  {
   "cell_type": "code",
   "execution_count": 173,
   "id": "a4ec4b44-182d-4125-b409-f68c9361373b",
   "metadata": {},
   "outputs": [
    {
     "name": "stdout",
     "output_type": "stream",
     "text": [
      "beresin kamar 3\n",
      "sapu ke 5\n",
      "sapu ke 4\n",
      "sapu ke 3\n",
      "sapu ke 2\n",
      "sapu ke 1\n",
      "beresin kamar 2\n",
      "sapu ke 5\n",
      "sapu ke 4\n",
      "sapu ke 3\n",
      "sapu ke 2\n",
      "sapu ke 1\n",
      "beresin kamar 1\n",
      "sapu ke 5\n",
      "sapu ke 4\n",
      "sapu ke 3\n",
      "sapu ke 2\n",
      "sapu ke 1\n"
     ]
    }
   ],
   "source": [
    "#nested loop\n",
    "#misal punya 3 kamar untuk diberesin, untuk setiap kamar disapu 5x\n",
    "\n",
    "kamar = 3\n",
    "\n",
    "while (kamar > 0):\n",
    "    print('beresin kamar', kamar)\n",
    "    sapu = 5\n",
    "    while(sapu > 0):\n",
    "        print('sapu ke', sapu)\n",
    "        sapu = sapu - 1\n",
    "        \n",
    "    kamar = kamar -1"
   ]
  },
  {
   "cell_type": "code",
   "execution_count": 183,
   "id": "130f7fcb-302d-47f4-afc2-9f2df0f51c2b",
   "metadata": {},
   "outputs": [
    {
     "name": "stdout",
     "output_type": "stream",
     "text": [
      "beresin kamar 3\n",
      "sapu ke 5\n"
     ]
    }
   ],
   "source": [
    "kamar = 3\n",
    "\n",
    "while (kamar <= 3):\n",
    "    print('beresin kamar', kamar)\n",
    "    sapu = 5\n",
    "    while(sapu <= 5):\n",
    "        print('sapu ke', sapu)\n",
    "        sapu = sapu + 1\n",
    "        \n",
    "    kamar = kamar +1\n",
    "    \n",
    "# PR, buat jadi kamar 1,2,3 dan sapu 1,2,3,4,5"
   ]
  },
  {
   "cell_type": "code",
   "execution_count": 189,
   "id": "985f18e6-6b49-4598-a845-29531d60c30b",
   "metadata": {},
   "outputs": [
    {
     "name": "stdout",
     "output_type": "stream",
     "text": [
      "Buah Apel\n",
      "Buah Pisang\n",
      "Buah Jeruk\n"
     ]
    }
   ],
   "source": [
    "# for loop\n",
    "\n",
    "list_buah=[\"apel\",'pisang','jeruk']\n",
    "\n",
    "# untuk setiap buah, coba print 'buah ...\" dengan title case\n",
    "\n",
    "for buah in list_buah:\n",
    "    print('Buah ' + buah.title())"
   ]
  },
  {
   "cell_type": "code",
   "execution_count": 193,
   "id": "fd06ca75-1cb8-48cf-a7f6-ba3feb152fe0",
   "metadata": {},
   "outputs": [
    {
     "name": "stdout",
     "output_type": "stream",
     "text": [
      "nama andi\n",
      "umur 25\n",
      "hobi ['makan', 'tidur', 'game']\n"
     ]
    }
   ],
   "source": [
    "\n",
    "andi = {'nama':'andi', 'umur':25, 'hobi':['makan','tidur','game']}\n",
    "\n",
    "for key in andi:\n",
    "    print(key,andi[key])"
   ]
  },
  {
   "cell_type": "code",
   "execution_count": 194,
   "id": "17e1d6b0-d990-42e4-aba1-b1cbcaae09dd",
   "metadata": {},
   "outputs": [
    {
     "name": "stdout",
     "output_type": "stream",
     "text": [
      "a\n",
      "n\n",
      "d\n",
      "i\n"
     ]
    }
   ],
   "source": [
    "for huruf in andi['nama']:\n",
    "    print(huruf)"
   ]
  },
  {
   "cell_type": "code",
   "execution_count": 198,
   "id": "693f985c-1af4-409f-944d-9f04546dadc6",
   "metadata": {},
   "outputs": [
    {
     "name": "stdout",
     "output_type": "stream",
     "text": [
      "0\n",
      "1\n",
      "2\n",
      "3\n",
      "4\n",
      "5\n",
      "1\n",
      "2\n",
      "3\n",
      "4\n",
      "5\n"
     ]
    }
   ],
   "source": [
    "for n in range(6):\n",
    "    print(n)"
   ]
  },
  {
   "cell_type": "code",
   "execution_count": 199,
   "id": "2cfc91eb-ef36-467d-91c3-3947b739e0e9",
   "metadata": {},
   "outputs": [
    {
     "name": "stdout",
     "output_type": "stream",
     "text": [
      "1\n",
      "2\n",
      "3\n",
      "4\n",
      "5\n"
     ]
    }
   ],
   "source": [
    "for n in range(1,6):\n",
    "    print(n)"
   ]
  },
  {
   "cell_type": "code",
   "execution_count": 203,
   "id": "1955b1f4-5580-4d17-8e37-8fd434b2306b",
   "metadata": {},
   "outputs": [
    {
     "name": "stdout",
     "output_type": "stream",
     "text": [
      "0\n",
      "30\n",
      "60\n",
      "90\n"
     ]
    }
   ],
   "source": [
    "for n in range(0,101,30):\n",
    "    print(n)"
   ]
  },
  {
   "cell_type": "code",
   "execution_count": 208,
   "id": "393cf06e-6cc4-4e18-a3f0-b87e3c464b92",
   "metadata": {},
   "outputs": [
    {
     "name": "stdout",
     "output_type": "stream",
     "text": [
      "70\n",
      "80\n",
      "90\n",
      "100\n",
      "70\n",
      "80\n",
      "90\n",
      "100\n"
     ]
    }
   ],
   "source": [
    "tuple_nilai = (70,80,90,100)\n",
    "for nilai in tuple_nilai:\n",
    "    print(nilai)\n",
    "    \n",
    "#atau\n",
    "for nilai in (70,80,90,100):\n",
    "    print(nilai)"
   ]
  },
  {
   "cell_type": "markdown",
   "id": "8a65c864-df6f-406a-bde9-8f4f78da8e88",
   "metadata": {},
   "source": [
    "# latihan"
   ]
  },
  {
   "cell_type": "code",
   "execution_count": null,
   "id": "5a091ab1-dfe7-466b-a58e-2df547eaca47",
   "metadata": {},
   "outputs": [
    {
     "name": "stdin",
     "output_type": "stream",
     "text": [
      "ketik: halo\n"
     ]
    },
    {
     "name": "stdout",
     "output_type": "stream",
     "text": [
      "msg diterima: halo\n"
     ]
    }
   ],
   "source": [
    "while True: #infinite loop?\n",
    "    msg = input('ketik:').lower()\n",
    "    print('msg diterima:', msg)\n",
    "    if (msg == 'stop'):\n",
    "        break"
   ]
  },
  {
   "cell_type": "code",
   "execution_count": null,
   "id": "963377bb-16a1-4678-9a23-71b222a3be46",
   "metadata": {},
   "outputs": [],
   "source": []
  }
 ],
 "metadata": {
  "kernelspec": {
   "display_name": "Python 3",
   "language": "python",
   "name": "python3"
  },
  "language_info": {
   "codemirror_mode": {
    "name": "ipython",
    "version": 3
   },
   "file_extension": ".py",
   "mimetype": "text/x-python",
   "name": "python",
   "nbconvert_exporter": "python",
   "pygments_lexer": "ipython3",
   "version": "3.8.8"
  },
  "toc-autonumbering": false,
  "toc-showmarkdowntxt": false
 },
 "nbformat": 4,
 "nbformat_minor": 5
}
