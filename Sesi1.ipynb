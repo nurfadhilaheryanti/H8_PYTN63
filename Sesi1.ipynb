{
 "cells": [
  {
   "cell_type": "code",
   "execution_count": 1,
   "id": "67218699-8a2d-4c5e-a64e-2e060f5dc9e4",
   "metadata": {},
   "outputs": [
    {
     "name": "stdout",
     "output_type": "stream",
     "text": [
      "halo\n"
     ]
    }
   ],
   "source": [
    "print(\"halo\")"
   ]
  },
  {
   "cell_type": "markdown",
   "id": "40c0da53-70b4-4707-b5f4-3b6939bf3e6c",
   "metadata": {},
   "source": [
    "# coba notes\n",
    "## coba\n",
    "### coba"
   ]
  },
  {
   "cell_type": "markdown",
   "id": "61ad964f-d9c1-4dfe-8ae2-18ad109a935b",
   "metadata": {},
   "source": [
    "# tipe data\n",
    "- integers\n",
    "- string\n",
    "- float\n",
    "- boolean"
   ]
  },
  {
   "cell_type": "code",
   "execution_count": 2,
   "id": "a07ae996-43f3-4e03-b9f0-cf56597f2800",
   "metadata": {},
   "outputs": [
    {
     "name": "stdout",
     "output_type": "stream",
     "text": [
      "5\n",
      "<class 'int'>\n"
     ]
    }
   ],
   "source": [
    "print(5)\n",
    "print(type(5))"
   ]
  },
  {
   "cell_type": "code",
   "execution_count": 3,
   "id": "56b24b07-9461-478f-a396-024050f10eb3",
   "metadata": {},
   "outputs": [
    {
     "name": "stdout",
     "output_type": "stream",
     "text": [
      "5.5\n",
      "<class 'float'>\n"
     ]
    }
   ],
   "source": [
    "print(5.5)\n",
    "print(type(5.5))"
   ]
  },
  {
   "cell_type": "code",
   "execution_count": 4,
   "id": "80b60fd3-bafb-4ac2-b94e-1ef513c87b67",
   "metadata": {},
   "outputs": [
    {
     "name": "stdout",
     "output_type": "stream",
     "text": [
      "halo haha\n",
      "<class 'str'>\n"
     ]
    }
   ],
   "source": [
    "print(\"halo haha\")\n",
    "print(type(\"halo haha\"))"
   ]
  },
  {
   "cell_type": "code",
   "execution_count": 5,
   "id": "88320438-a212-40ba-b9aa-208b251fe7f3",
   "metadata": {},
   "outputs": [
    {
     "name": "stdout",
     "output_type": "stream",
     "text": [
      "halo\n",
      "<class 'str'>\n"
     ]
    }
   ],
   "source": [
    "print('halo')\n",
    "print(type('halo'))"
   ]
  },
  {
   "cell_type": "code",
   "execution_count": 6,
   "id": "3b89cc31-9d3f-4906-9195-7b5178888aeb",
   "metadata": {},
   "outputs": [
    {
     "name": "stdout",
     "output_type": "stream",
     "text": [
      "hai r\" r\n",
      "hai r\" r\n",
      "\\\n",
      "<class 'str'>\n"
     ]
    }
   ],
   "source": [
    "print('hai r\" r')\n",
    "print(\"hai r\\\" r\")\n",
    "print('\\\\')\n",
    "print(type('\\\\'))"
   ]
  },
  {
   "cell_type": "code",
   "execution_count": 7,
   "id": "f20f9196-0a4e-4bdb-9c9e-87b1ea003af4",
   "metadata": {},
   "outputs": [
    {
     "name": "stdout",
     "output_type": "stream",
     "text": [
      "True\n",
      "False\n",
      "<class 'bool'>\n",
      "<class 'bool'>\n"
     ]
    }
   ],
   "source": [
    "print(True)\n",
    "print(False)\n",
    "print(type(True))\n",
    "print(type(False))"
   ]
  },
  {
   "cell_type": "code",
   "execution_count": 8,
   "id": "67476aa2-721d-4595-8030-17562f98ffa4",
   "metadata": {},
   "outputs": [
    {
     "name": "stdout",
     "output_type": "stream",
     "text": [
      "5.0\n",
      "5\n",
      "True\n",
      "5\n"
     ]
    }
   ],
   "source": [
    "# ubah jadi tipe data lain\n",
    "print(float(5))\n",
    "print(str(5))\n",
    "print(bool(5))\n",
    "print(int(5.45))"
   ]
  },
  {
   "cell_type": "code",
   "execution_count": 9,
   "id": "77002978-ba6d-4092-bef8-877325860831",
   "metadata": {},
   "outputs": [
    {
     "name": "stdout",
     "output_type": "stream",
     "text": [
      "1.0\n",
      "True\n",
      "1\n"
     ]
    }
   ],
   "source": [
    "print(float(True))\n",
    "print(str(True))\n",
    "print(int(True))"
   ]
  },
  {
   "cell_type": "code",
   "execution_count": 10,
   "id": "e377fef7-34c9-4c8a-b6db-1670fe7af9df",
   "metadata": {},
   "outputs": [
    {
     "name": "stdout",
     "output_type": "stream",
     "text": [
      "0.0\n",
      "False\n",
      "0\n"
     ]
    }
   ],
   "source": [
    "print(float(False))\n",
    "print(str(False))\n",
    "print(int(False))\n",
    "# tipe str yang dianggap false oleh bool = str kosong"
   ]
  },
  {
   "cell_type": "markdown",
   "id": "6704c3f3-ba5b-45c9-b4db-601b60236c01",
   "metadata": {},
   "source": [
    "# variable assignment"
   ]
  },
  {
   "cell_type": "code",
   "execution_count": 13,
   "id": "99ad494c-1482-492f-8af5-ccd6a56f8314",
   "metadata": {},
   "outputs": [],
   "source": [
    "nilai_dila = 5"
   ]
  },
  {
   "cell_type": "code",
   "execution_count": 14,
   "id": "4c520a77-f080-41a8-990e-22af816e79f6",
   "metadata": {},
   "outputs": [
    {
     "name": "stdout",
     "output_type": "stream",
     "text": [
      "5\n"
     ]
    }
   ],
   "source": [
    "print(nilai_dila)"
   ]
  },
  {
   "cell_type": "code",
   "execution_count": 18,
   "id": "b57a9589-8a6f-4460-9762-18085d62f95b",
   "metadata": {},
   "outputs": [],
   "source": [
    "nilai_dila = \"halo\""
   ]
  },
  {
   "cell_type": "code",
   "execution_count": 19,
   "id": "6f45a018-00c5-4288-a866-202e532d0a5d",
   "metadata": {},
   "outputs": [
    {
     "name": "stdout",
     "output_type": "stream",
     "text": [
      "halo\n"
     ]
    }
   ],
   "source": [
    "print(nilai_dila)"
   ]
  },
  {
   "cell_type": "code",
   "execution_count": 20,
   "id": "1e4163ab-aea6-4328-bda9-4c40436e2f54",
   "metadata": {},
   "outputs": [
    {
     "name": "stdout",
     "output_type": "stream",
     "text": [
      "20\n"
     ]
    }
   ],
   "source": [
    "a = b = c = 20\n",
    "print(b)"
   ]
  },
  {
   "cell_type": "markdown",
   "id": "892c3b35-83e2-4a40-be24-f16064bb9e24",
   "metadata": {},
   "source": [
    "# variable rules\n",
    "- tidak bisa dimulai angka\n",
    "- harus huruf kecil semua\n",
    "- huruf besar dan kecil dianggap beda variabel\n",
    "- tidak bisa pakai spasi"
   ]
  },
  {
   "cell_type": "code",
   "execution_count": 24,
   "id": "3f4ffef6-7faf-4969-a963-89a41ee2f9fe",
   "metadata": {},
   "outputs": [
    {
     "name": "stdout",
     "output_type": "stream",
     "text": [
      "1\n",
      "2\n",
      "3\n",
      "4\n",
      "5\n",
      "6\n"
     ]
    }
   ],
   "source": [
    "nilai_andi = 1\n",
    "nilai_Andi = 2\n",
    "nilAi_andi = 3\n",
    "nilai_ANDI = 4\n",
    "nilaiandi = 5\n",
    "nilaiAndi = 6\n",
    "\n",
    "print(nilai_andi)\n",
    "print(nilai_Andi)\n",
    "print(nilAi_andi)\n",
    "print(nilai_ANDI)\n",
    "print(nilaiandi)\n",
    "print(nilaiAndi)\n"
   ]
  },
  {
   "cell_type": "markdown",
   "id": "2c738bab-9c1a-4b0d-a7f8-141e8b90ceed",
   "metadata": {},
   "source": [
    "# operators\n",
    "arithmatics operator"
   ]
  },
  {
   "cell_type": "code",
   "execution_count": 27,
   "id": "3fa0113f-034e-4528-a050-2a83b7637d02",
   "metadata": {},
   "outputs": [
    {
     "name": "stdout",
     "output_type": "stream",
     "text": [
      "15\n",
      "-5\n",
      "50\n",
      "0.5\n",
      "1\n",
      "125\n"
     ]
    }
   ],
   "source": [
    "print(5+10)\n",
    "print(5-10)\n",
    "print(5*10)\n",
    "print(5/10)\n",
    "print(5%4)\n",
    "print(5**3)\n",
    "\n",
    "# % = modulo, sisa dari pembagian"
   ]
  },
  {
   "cell_type": "code",
   "execution_count": 31,
   "id": "c8e98d82-400a-40e4-8630-6382bac58902",
   "metadata": {},
   "outputs": [
    {
     "name": "stdout",
     "output_type": "stream",
     "text": [
      "7\n",
      "3\n",
      "10\n",
      "2.5\n",
      "1\n",
      "25\n"
     ]
    }
   ],
   "source": [
    "a = 5\n",
    "b = 2\n",
    "\n",
    "print(a+b)\n",
    "print(a-b)\n",
    "print(a*b)\n",
    "print(a/b)\n",
    "print(a%b)\n",
    "print(a**b)"
   ]
  },
  {
   "cell_type": "code",
   "execution_count": 43,
   "id": "4b0060c3-14af-46e5-9d67-5daa2ab130f2",
   "metadata": {},
   "outputs": [
    {
     "name": "stdout",
     "output_type": "stream",
     "text": [
      "selamat malam dila\n"
     ]
    }
   ],
   "source": [
    "salam = \"selamat malam\"\n",
    "print(salam+ \" dila\")"
   ]
  },
  {
   "cell_type": "markdown",
   "id": "2e814fcf-ab46-4b2f-bb8c-87984112c97b",
   "metadata": {},
   "source": [
    "# operators\n",
    "comparison operator"
   ]
  },
  {
   "cell_type": "code",
   "execution_count": 40,
   "id": "98d49ea2-c6ac-4af7-b653-44f8030d80e8",
   "metadata": {},
   "outputs": [
    {
     "name": "stdout",
     "output_type": "stream",
     "text": [
      "False\n",
      "True\n",
      "False\n",
      "True\n",
      "False\n"
     ]
    }
   ],
   "source": [
    "a = 5\n",
    "b = 10\n",
    "\n",
    "print(a == b)\n",
    "print (a < b)\n",
    "print (a > b)\n",
    "print (a <= b)\n",
    "print (a >= b)"
   ]
  },
  {
   "cell_type": "code",
   "execution_count": 56,
   "id": "857932e0-70c1-47e8-9185-eb712aecb623",
   "metadata": {},
   "outputs": [
    {
     "name": "stdout",
     "output_type": "stream",
     "text": [
      "False\n",
      "False\n",
      "True\n",
      "False\n",
      "True\n",
      "True\n",
      "halo > akuakuakuaku False\n"
     ]
    }
   ],
   "source": [
    "a = \"halo\"\n",
    "b = \"aku\"\n",
    "\n",
    "print(a == b)\n",
    "print (a < b)\n",
    "print (a > b)\n",
    "print (a <= b)\n",
    "print (a >= b)\n",
    "print (a != b)\n",
    "print (a, \">\", b*4, a<b)\n",
    "\n",
    "#diurutkan sesuai alfabet"
   ]
  },
  {
   "cell_type": "markdown",
   "id": "bff4b74c-034f-4d17-bf8c-98c9b171a595",
   "metadata": {},
   "source": [
    "# string manipulation\n",
    "## ubah case string"
   ]
  },
  {
   "cell_type": "code",
   "execution_count": 55,
   "id": "8f022b47-00b6-4c16-b131-b9aea0b7114d",
   "metadata": {},
   "outputs": [
    {
     "name": "stdout",
     "output_type": "stream",
     "text": [
      "selamat datang ke kelas python hacktiv8\n",
      "SELAMAT DATANG KE KELAS PYTHON HACKTIV8\n",
      "Selamat Datang Ke Kelas Python Hacktiv8\n",
      "sELAMAT DATANG KE KELAS python hACKTIV8\n",
      "Selamat datang ke kelas python hacktiv8\n"
     ]
    }
   ],
   "source": [
    "pesan = \"Selamat datang ke kelas PYTHON Hacktiv8\"\n",
    "\n",
    "# ubah ke lower case\n",
    "print(pesan.lower())\n",
    "\n",
    "#ubah ke upper case\n",
    "print(pesan.upper())\n",
    "\n",
    "#ubah ke title case\n",
    "print(pesan.title())\n",
    "\n",
    "#ubah ke swap case\n",
    "print(pesan.swapcase())\n",
    "\n",
    "#ubah ke capitalize case\n",
    "print(pesan.capitalize())"
   ]
  },
  {
   "cell_type": "markdown",
   "id": "dc3a634e-b1f7-4d0d-9960-be445b6c7ad7",
   "metadata": {},
   "source": [
    "# tipe data terstruktur\n",
    "- list\n",
    "- tuple\n",
    "- dictionary\n"
   ]
  },
  {
   "cell_type": "code",
   "execution_count": 57,
   "id": "850a0aa5-189d-4152-9ecc-f819320b27ef",
   "metadata": {},
   "outputs": [],
   "source": [
    "#misal\n",
    "dila_nilai_1 = 100\n",
    "dila_nilai_2 = 200\n",
    "dila_nilai_3 = 300\n",
    "dila_nilai_4 = 400\n",
    "\n",
    "b_nilai_1 = 50\n",
    "b_nilai_2 = 60\n",
    "b_nilai_3 = 70\n",
    "b_nilai_4 = 80"
   ]
  },
  {
   "cell_type": "markdown",
   "id": "356a3871-128c-4aa2-86ec-dba1a28aee7c",
   "metadata": {},
   "source": [
    "## list"
   ]
  },
  {
   "cell_type": "code",
   "execution_count": 58,
   "id": "8bf5b6f2-3e15-402b-9e53-fec6a9bdc13b",
   "metadata": {},
   "outputs": [
    {
     "name": "stdout",
     "output_type": "stream",
     "text": [
      "[100, 200, 300, 400]\n"
     ]
    }
   ],
   "source": [
    "nilai_dila = [100,200,300,400]\n",
    "print(nilai_dila)"
   ]
  },
  {
   "cell_type": "markdown",
   "id": "ff0e3a0f-42eb-4af5-a083-f9c6d2afe9c4",
   "metadata": {},
   "source": [
    "## indexing"
   ]
  },
  {
   "cell_type": "code",
   "execution_count": 63,
   "id": "7617d7d6-70db-4296-8b14-6e8ca577c7e7",
   "metadata": {},
   "outputs": [
    {
     "name": "stdout",
     "output_type": "stream",
     "text": [
      "100\n",
      "200\n",
      "400\n"
     ]
    }
   ],
   "source": [
    "print(nilai_dila[0])\n",
    "print(nilai_dila[1])\n",
    "print(nilai_dila[-1])\n",
    "#urutan 1 = 0, dst"
   ]
  },
  {
   "cell_type": "code",
   "execution_count": 62,
   "id": "c460be81-ace8-4b51-9c82-bb6fb8d96d8f",
   "metadata": {},
   "outputs": [
    {
     "name": "stdout",
     "output_type": "stream",
     "text": [
      "['hai', 5, [], [100, 200, 300, 400]]\n"
     ]
    }
   ],
   "source": [
    "list = [\"hai\",5,[],nilai_dila]\n",
    "print(list)"
   ]
  },
  {
   "cell_type": "markdown",
   "id": "63716036-19a7-4cc2-b89a-028a525798e9",
   "metadata": {},
   "source": [
    "## silcing"
   ]
  },
  {
   "cell_type": "code",
   "execution_count": 64,
   "id": "da097333-499b-4f20-8a14-de96b4f90c82",
   "metadata": {},
   "outputs": [
    {
     "name": "stdout",
     "output_type": "stream",
     "text": [
      "[100, 200]\n"
     ]
    }
   ],
   "source": [
    "print(nilai_dila[0:2])"
   ]
  },
  {
   "cell_type": "code",
   "execution_count": 76,
   "id": "4c07ce77-de56-4f83-b088-a95ce3d36b3d",
   "metadata": {},
   "outputs": [
    {
     "name": "stdout",
     "output_type": "stream",
     "text": [
      "7\n"
     ]
    }
   ],
   "source": [
    "list_asal=[\"ab\",\"bv\",\"fk\",\"dh\",\"gf\",\"ju\",\"fd\"]\n",
    "print(len(list_asal))"
   ]
  },
  {
   "cell_type": "code",
   "execution_count": 123,
   "id": "110318e7-be55-4378-b50a-70a32c02bb6e",
   "metadata": {},
   "outputs": [
    {
     "name": "stdout",
     "output_type": "stream",
     "text": [
      "['dh', 'gf', 'ju', 'fd', 'hh', 'hh']\n",
      "['APEL', 'fk', 'dh']\n",
      "dh\n"
     ]
    }
   ],
   "source": [
    "#ambil dari bv\n",
    "print(list_asal[2:])\n",
    "\n",
    "#abil 3 terakhir\n",
    "print(list_asal[:3])\n",
    "\n",
    "#ambil dh\n",
    "print(list_asal[2])"
   ]
  },
  {
   "cell_type": "code",
   "execution_count": 71,
   "id": "5443f1e9-15e0-4679-a89e-4e314d3ef9a6",
   "metadata": {},
   "outputs": [
    {
     "name": "stdout",
     "output_type": "stream",
     "text": [
      "['ab', 'bv', 'aa']\n"
     ]
    }
   ],
   "source": [
    "# re assign\n",
    "\n",
    "list_asal[2:5] = [\"aa\"]\n",
    "print(list_asal)"
   ]
  },
  {
   "cell_type": "code",
   "execution_count": 80,
   "id": "9061bd54-0f22-450c-94ff-d72dd8e187da",
   "metadata": {},
   "outputs": [
    {
     "name": "stdout",
     "output_type": "stream",
     "text": [
      "True\n",
      "3\n",
      "True\n"
     ]
    }
   ],
   "source": [
    "# cek data \"apa ada dh?\"\n",
    "print(\"dh\" in list_asal)\n",
    "\n",
    "#cek urutan ke berapa\n",
    "print(list_asal.index(\"dh\"))\n",
    "\n",
    "print(\"ab\" in list_asal)"
   ]
  },
  {
   "cell_type": "markdown",
   "id": "530769ef-befd-4448-9200-e68fd50c2028",
   "metadata": {},
   "source": [
    "# nambah dan apus item"
   ]
  },
  {
   "cell_type": "code",
   "execution_count": 81,
   "id": "da6233b6-053d-42fb-88c3-e4a806900896",
   "metadata": {},
   "outputs": [
    {
     "name": "stdout",
     "output_type": "stream",
     "text": [
      "['ab', 'bv', 'fk', 'dh', 'gf', 'ju', 'fd']\n"
     ]
    }
   ],
   "source": [
    "print(list_asal)"
   ]
  },
  {
   "cell_type": "code",
   "execution_count": 83,
   "id": "82830dee-b167-4c24-a89b-0a656e1165f4",
   "metadata": {},
   "outputs": [
    {
     "name": "stdout",
     "output_type": "stream",
     "text": [
      "['ab', 'bv', 'fk', 'dh', 'gf', 'ju', 'fd', 'hh', 'hh']\n"
     ]
    }
   ],
   "source": [
    "list_asal.append(\"hh\")\n",
    "print(list_asal)"
   ]
  },
  {
   "cell_type": "code",
   "execution_count": 84,
   "id": "c0ba6c89-49fb-4cd0-8028-ae078a27dbfe",
   "metadata": {},
   "outputs": [
    {
     "name": "stdout",
     "output_type": "stream",
     "text": [
      "['bv', 'fk', 'dh', 'gf', 'ju', 'fd', 'hh', 'hh']\n"
     ]
    }
   ],
   "source": [
    "list_asal.remove(\"ab\")\n",
    "print(list_asal)"
   ]
  },
  {
   "cell_type": "markdown",
   "id": "ff98a224-dfde-4344-b6b3-998a74cec3ee",
   "metadata": {},
   "source": [
    "## tuple"
   ]
  },
  {
   "cell_type": "code",
   "execution_count": 85,
   "id": "555ad668-f65c-4396-b507-2927b4e9df48",
   "metadata": {},
   "outputs": [
    {
     "name": "stdout",
     "output_type": "stream",
     "text": [
      "['bv', 'fk', 'dh', 'gf', 'ju', 'fd', 'hh', 'hh']\n"
     ]
    }
   ],
   "source": [
    "print(list_asal)"
   ]
  },
  {
   "cell_type": "code",
   "execution_count": 86,
   "id": "201b82da-7059-4ed0-a2cf-34b1a5d7d33a",
   "metadata": {},
   "outputs": [
    {
     "name": "stdout",
     "output_type": "stream",
     "text": [
      "['APEL', 'fk', 'dh', 'gf', 'ju', 'fd', 'hh', 'hh']\n"
     ]
    }
   ],
   "source": [
    "list_asal[0] = \"APEL\"\n",
    "print(list_asal)"
   ]
  },
  {
   "cell_type": "code",
   "execution_count": 87,
   "id": "7860dd7f-4fbd-4eed-8f20-d4645e3fd753",
   "metadata": {},
   "outputs": [
    {
     "name": "stdout",
     "output_type": "stream",
     "text": [
      "('APEL', 'fk', 'dh', 'gf', 'ju', 'fd', 'hh', 'hh')\n"
     ]
    }
   ],
   "source": [
    "tuple_asal = ('APEL', 'fk', 'dh', 'gf', 'ju', 'fd', 'hh', 'hh')\n",
    "print(tuple_asal)"
   ]
  },
  {
   "cell_type": "markdown",
   "id": "9e629a16-95a4-4dcd-85ec-0cea83e14ea1",
   "metadata": {},
   "source": [
    "# Dictionary\n",
    "- tidak punya index, punya key"
   ]
  },
  {
   "cell_type": "code",
   "execution_count": 90,
   "id": "3d3b1d6b-d402-4def-a733-f82647d97db6",
   "metadata": {},
   "outputs": [
    {
     "name": "stdout",
     "output_type": "stream",
     "text": [
      "{'assignment1': 100, 'assignment2': 200, 'assignment3': 300, 'finalproject': 400}\n",
      "100\n"
     ]
    }
   ],
   "source": [
    "#bentuk list\n",
    "nilai_dila = [\"100,200,300,400\"]\n",
    "#bentuk dictionary\n",
    "dict_nilai_dila = {\"assignment1\":100,\"assignment2\":200,\"assignment3\":300,\"finalproject\":400}\n",
    "\n",
    "print(dict_nilai_dila)\n",
    "print(dict_nilai_dila[\"assignment1\"])"
   ]
  },
  {
   "cell_type": "code",
   "execution_count": 116,
   "id": "28517440-c560-48c6-84bf-e9065c0bbc8b",
   "metadata": {},
   "outputs": [
    {
     "name": "stdout",
     "output_type": "stream",
     "text": [
      "{'umur': 19, 'gender': 'f', 'kode_peserta': 'PYTN01', 'hobi': ['main', 'makan'], 'nilai': {'assignment1': 100, 'assignment2': 200, 'assignment3': 300, 'finalproject': 400}}\n",
      "['main', 'makan']\n",
      "main\n",
      "{'umur': 19, 'gender': 'f', 'kode_peserta': 'PYTN01', 'hobi': ['tidur', 'makan'], 'nilai': {'assignment1': 100, 'assignment2': 200, 'assignment3': 300, 'finalproject': 400}}\n"
     ]
    }
   ],
   "source": [
    "dila = {\"umur\":19,\n",
    "        \"gender\":\"f\",\n",
    "        \"kode_peserta\":\"PYTN01\",\"hobi\":[\"main\",\"makan\"],\"nilai\":dict_nilai_dila}\n",
    "\n",
    "print(dila)\n",
    "print(dila[\"hobi\"])\n",
    "print(dila[\"hobi\"][0])\n",
    "\n",
    "#ubah main jadi tidur\n",
    "dila[\"hobi\"][0]=\"tidur\"\n",
    "\n",
    "print(dila)"
   ]
  },
  {
   "cell_type": "code",
   "execution_count": 106,
   "id": "c51682fc-b3ef-4d83-a1cf-d1a606afc816",
   "metadata": {},
   "outputs": [
    {
     "name": "stdout",
     "output_type": "stream",
     "text": [
      "{'nama': 'andiyono', 'usia': 19, 'gender': 'M'}\n"
     ]
    }
   ],
   "source": [
    "andi ={}\n",
    "andi[\"nama\"]= \"andiyono\"\n",
    "andi[\"usia\"]= 19\n",
    "andi[\"gender\"]=\"M\"\n",
    "\n",
    "print(andi)"
   ]
  },
  {
   "cell_type": "code",
   "execution_count": 119,
   "id": "5f12e562-a723-4731-a6e4-731f0804bb83",
   "metadata": {},
   "outputs": [
    {
     "name": "stdout",
     "output_type": "stream",
     "text": [
      "{'usia': 19, 'gender': 'M'}\n"
     ]
    }
   ],
   "source": [
    "del andi[\"nama\"]\n",
    "print(andi)"
   ]
  },
  {
   "cell_type": "code",
   "execution_count": 131,
   "id": "345c844e-05de-400c-b84c-27ce855d79d0",
   "metadata": {},
   "outputs": [
    {
     "name": "stdout",
     "output_type": "stream",
     "text": [
      "{'nama': 'Nur_Fadhilah', 'usia': 19, 'nilai_ujian': {'tugas1': 80, 'tugas2': 100}, 'buah_fav': ['apel', 'jeruk', 'nanas']}\n",
      "{'nama': 'Nur_Fadhilah', 'usia': 19, 'nilai_ujian': {'tugas1': 80, 'tugas2': 100}, 'buah_fav': ['duku', 'jeruk', 'nanas']}\n",
      "{'nama': 'Nur_Fadhilah', 'usia': 19, 'nilai_ujian': {'tugas1': 80, 'tugas2': 100}, 'buah_fav': ['duku', 'jeruk', 'nanas']} {'gender': 'f', 'kode_peserta': 'PYTN01', 'hobi': ['tidur', 'makan'], 'nilai': {'assignment1': 100, 'assignment2': 200, 'assignment3': 300, 'finalproject': 400}} {'usia': 19, 'gender': 'M'}\n"
     ]
    }
   ],
   "source": [
    "#cobacoba\n",
    "\n",
    "nilai_a={\"tugas1\":80,\"tugas2\":100}\n",
    "list_buah=[\"apel\",\"jeruk\",\"nanas\"]\n",
    "\n",
    "a={}\n",
    "a[\"nama\"]=\"Nur_Fadhilah\"\n",
    "a[\"usia\"]=19\n",
    "a[\"nilai_ujian\"]=nilai_a\n",
    "a[\"buah_fav\"]=list_buah\n",
    "\n",
    "print(a)\n",
    "\n",
    "#re assign\n",
    "a[\"buah_fav\"][0]=\"duku\"\n",
    "\n",
    "print(a)\n",
    "print(a,dila,andi)"
   ]
  },
  {
   "cell_type": "code",
   "execution_count": null,
   "id": "4fe922db-41e8-4f92-90b6-2cd56fddea98",
   "metadata": {},
   "outputs": [],
   "source": []
  }
 ],
 "metadata": {
  "kernelspec": {
   "display_name": "Python 3",
   "language": "python",
   "name": "python3"
  },
  "language_info": {
   "codemirror_mode": {
    "name": "ipython",
    "version": 3
   },
   "file_extension": ".py",
   "mimetype": "text/x-python",
   "name": "python",
   "nbconvert_exporter": "python",
   "pygments_lexer": "ipython3",
   "version": "3.8.8"
  }
 },
 "nbformat": 4,
 "nbformat_minor": 5
}
